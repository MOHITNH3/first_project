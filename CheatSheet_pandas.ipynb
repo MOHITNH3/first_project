{
 "cells": [
  {
   "cell_type": "markdown",
   "id": "594aa968",
   "metadata": {},
   "source": [
    "# PANDAS CHEAT SHEET"
   ]
  },
  {
   "cell_type": "markdown",
   "id": "29bd2b5a",
   "metadata": {},
   "source": [
    "***Panda's is a library that provides easy to use data structure and data analysis tool for Python Programming Language***"
   ]
  },
  {
   "cell_type": "markdown",
   "id": "0e46c821",
   "metadata": {},
   "source": [
    "**1. Import Convention for Pandas**"
   ]
  },
  {
   "cell_type": "code",
   "execution_count": 1,
   "id": "8e7a50c7",
   "metadata": {},
   "outputs": [],
   "source": [
    "import numpy as np\n",
    "import pandas as pd"
   ]
  },
  {
   "cell_type": "markdown",
   "id": "94300cf6",
   "metadata": {},
   "source": [
    "**2. Pandas Data Structure**"
   ]
  },
  {
   "cell_type": "markdown",
   "id": "445ac75c",
   "metadata": {},
   "source": [
    "**2.1. Series**"
   ]
  },
  {
   "cell_type": "code",
   "execution_count": 2,
   "id": "72123b7c",
   "metadata": {},
   "outputs": [
    {
     "data": {
      "text/plain": [
       "a    1\n",
       "b    2\n",
       "c    3\n",
       "d    4\n",
       "dtype: int64"
      ]
     },
     "execution_count": 2,
     "metadata": {},
     "output_type": "execute_result"
    }
   ],
   "source": [
    "s = pd.Series([1,2,3,4], index=['a','b','c','d'])\n",
    "s"
   ]
  },
  {
   "cell_type": "markdown",
   "id": "c753b75a",
   "metadata": {},
   "source": [
    "**2.2. Data Frame**"
   ]
  },
  {
   "cell_type": "code",
   "execution_count": 3,
   "id": "594af961",
   "metadata": {},
   "outputs": [
    {
     "data": {
      "text/html": [
       "<div>\n",
       "<style scoped>\n",
       "    .dataframe tbody tr th:only-of-type {\n",
       "        vertical-align: middle;\n",
       "    }\n",
       "\n",
       "    .dataframe tbody tr th {\n",
       "        vertical-align: top;\n",
       "    }\n",
       "\n",
       "    .dataframe thead th {\n",
       "        text-align: right;\n",
       "    }\n",
       "</style>\n",
       "<table border=\"1\" class=\"dataframe\">\n",
       "  <thead>\n",
       "    <tr style=\"text-align: right;\">\n",
       "      <th></th>\n",
       "      <th>Fruit</th>\n",
       "      <th>Color</th>\n",
       "    </tr>\n",
       "  </thead>\n",
       "  <tbody>\n",
       "    <tr>\n",
       "      <th>0</th>\n",
       "      <td>Apple</td>\n",
       "      <td>Red</td>\n",
       "    </tr>\n",
       "    <tr>\n",
       "      <th>1</th>\n",
       "      <td>Orange</td>\n",
       "      <td>Orange</td>\n",
       "    </tr>\n",
       "  </tbody>\n",
       "</table>\n",
       "</div>"
      ],
      "text/plain": [
       "    Fruit   Color\n",
       "0   Apple     Red\n",
       "1  Orange  Orange"
      ]
     },
     "execution_count": 3,
     "metadata": {},
     "output_type": "execute_result"
    }
   ],
   "source": [
    "data_fruit = {'Fruit': ['Apple', 'Orange'], 'Color' : ['Red', 'Orange']}\n",
    "df = pd.DataFrame(data_fruit, columns = ['Fruit', 'Color'])\n",
    "df"
   ]
  },
  {
   "cell_type": "markdown",
   "id": "d0d30a15",
   "metadata": {},
   "source": [
    "**3. Importing Data**"
   ]
  },
  {
   "cell_type": "markdown",
   "id": "22345809",
   "metadata": {},
   "source": [
    "**pd.read_csv(“filename”)**\n",
    "\n",
    "**pd.read_table(“filename”)**\n",
    "\n",
    "**pd.read_excel(“filename”)**\n",
    "\n",
    "**pd.read_sql(query, connection_object)**"
   ]
  },
  {
   "cell_type": "markdown",
   "id": "147d6d21",
   "metadata": {},
   "source": [
    "**4. Exporting Data**"
   ]
  },
  {
   "cell_type": "markdown",
   "id": "b1f58da7",
   "metadata": {},
   "source": [
    "**df.to_csv(“filename”)**\n",
    "\n",
    "**df.to_excel(“filename”)**\n",
    "\n",
    "**df.to_sql(table_name, connection_object)**"
   ]
  },
  {
   "cell_type": "markdown",
   "id": "f2c31f0e",
   "metadata": {},
   "source": [
    "**4. Creating Test Data**"
   ]
  },
  {
   "cell_type": "code",
   "execution_count": 4,
   "id": "bfe6ca0f",
   "metadata": {},
   "outputs": [
    {
     "data": {
      "text/html": [
       "<div>\n",
       "<style scoped>\n",
       "    .dataframe tbody tr th:only-of-type {\n",
       "        vertical-align: middle;\n",
       "    }\n",
       "\n",
       "    .dataframe tbody tr th {\n",
       "        vertical-align: top;\n",
       "    }\n",
       "\n",
       "    .dataframe thead th {\n",
       "        text-align: right;\n",
       "    }\n",
       "</style>\n",
       "<table border=\"1\" class=\"dataframe\">\n",
       "  <thead>\n",
       "    <tr style=\"text-align: right;\">\n",
       "      <th></th>\n",
       "      <th>A</th>\n",
       "      <th>B</th>\n",
       "      <th>C</th>\n",
       "      <th>D</th>\n",
       "    </tr>\n",
       "  </thead>\n",
       "  <tbody>\n",
       "    <tr>\n",
       "      <th>0</th>\n",
       "      <td>0.643540</td>\n",
       "      <td>0.334191</td>\n",
       "      <td>0.379616</td>\n",
       "      <td>0.370919</td>\n",
       "    </tr>\n",
       "    <tr>\n",
       "      <th>1</th>\n",
       "      <td>0.700844</td>\n",
       "      <td>0.365643</td>\n",
       "      <td>0.385233</td>\n",
       "      <td>0.069759</td>\n",
       "    </tr>\n",
       "    <tr>\n",
       "      <th>2</th>\n",
       "      <td>0.201622</td>\n",
       "      <td>0.179023</td>\n",
       "      <td>0.144862</td>\n",
       "      <td>0.717728</td>\n",
       "    </tr>\n",
       "    <tr>\n",
       "      <th>3</th>\n",
       "      <td>0.337750</td>\n",
       "      <td>0.956541</td>\n",
       "      <td>0.159898</td>\n",
       "      <td>0.668184</td>\n",
       "    </tr>\n",
       "    <tr>\n",
       "      <th>4</th>\n",
       "      <td>0.382504</td>\n",
       "      <td>0.735635</td>\n",
       "      <td>0.432578</td>\n",
       "      <td>0.310590</td>\n",
       "    </tr>\n",
       "    <tr>\n",
       "      <th>5</th>\n",
       "      <td>0.645458</td>\n",
       "      <td>0.622858</td>\n",
       "      <td>0.978791</td>\n",
       "      <td>0.240100</td>\n",
       "    </tr>\n",
       "    <tr>\n",
       "      <th>6</th>\n",
       "      <td>0.567720</td>\n",
       "      <td>0.647658</td>\n",
       "      <td>0.033470</td>\n",
       "      <td>0.005820</td>\n",
       "    </tr>\n",
       "    <tr>\n",
       "      <th>7</th>\n",
       "      <td>0.518737</td>\n",
       "      <td>0.161844</td>\n",
       "      <td>0.231548</td>\n",
       "      <td>0.260802</td>\n",
       "    </tr>\n",
       "    <tr>\n",
       "      <th>8</th>\n",
       "      <td>0.845187</td>\n",
       "      <td>0.565228</td>\n",
       "      <td>0.658303</td>\n",
       "      <td>0.169912</td>\n",
       "    </tr>\n",
       "    <tr>\n",
       "      <th>9</th>\n",
       "      <td>0.527357</td>\n",
       "      <td>0.567190</td>\n",
       "      <td>0.919655</td>\n",
       "      <td>0.439795</td>\n",
       "    </tr>\n",
       "  </tbody>\n",
       "</table>\n",
       "</div>"
      ],
      "text/plain": [
       "          A         B         C         D\n",
       "0  0.643540  0.334191  0.379616  0.370919\n",
       "1  0.700844  0.365643  0.385233  0.069759\n",
       "2  0.201622  0.179023  0.144862  0.717728\n",
       "3  0.337750  0.956541  0.159898  0.668184\n",
       "4  0.382504  0.735635  0.432578  0.310590\n",
       "5  0.645458  0.622858  0.978791  0.240100\n",
       "6  0.567720  0.647658  0.033470  0.005820\n",
       "7  0.518737  0.161844  0.231548  0.260802\n",
       "8  0.845187  0.565228  0.658303  0.169912\n",
       "9  0.527357  0.567190  0.919655  0.439795"
      ]
     },
     "execution_count": 4,
     "metadata": {},
     "output_type": "execute_result"
    }
   ],
   "source": [
    "df=pd.DataFrame(np.random.rand(10,4),columns=list('ABCD'))\n",
    "df"
   ]
  },
  {
   "cell_type": "code",
   "execution_count": 5,
   "id": "cdf33506",
   "metadata": {},
   "outputs": [
    {
     "data": {
      "text/plain": [
       "0    0.086136\n",
       "1    0.737258\n",
       "2    0.365869\n",
       "3    0.868327\n",
       "4    0.519049\n",
       "dtype: float64"
      ]
     },
     "execution_count": 5,
     "metadata": {},
     "output_type": "execute_result"
    }
   ],
   "source": [
    "df1=pd.Series(np.random.rand(5))\n",
    "df1"
   ]
  },
  {
   "cell_type": "markdown",
   "id": "6f1f16a1",
   "metadata": {},
   "source": [
    "**5. Operations on Data Frame**"
   ]
  },
  {
   "cell_type": "markdown",
   "id": "6d991c66",
   "metadata": {},
   "source": [
    "**5.1. View DataFrame Contents**"
   ]
  },
  {
   "cell_type": "code",
   "execution_count": 6,
   "id": "d6e9e212",
   "metadata": {},
   "outputs": [
    {
     "data": {
      "text/html": [
       "<div>\n",
       "<style scoped>\n",
       "    .dataframe tbody tr th:only-of-type {\n",
       "        vertical-align: middle;\n",
       "    }\n",
       "\n",
       "    .dataframe tbody tr th {\n",
       "        vertical-align: top;\n",
       "    }\n",
       "\n",
       "    .dataframe thead th {\n",
       "        text-align: right;\n",
       "    }\n",
       "</style>\n",
       "<table border=\"1\" class=\"dataframe\">\n",
       "  <thead>\n",
       "    <tr style=\"text-align: right;\">\n",
       "      <th></th>\n",
       "      <th>A</th>\n",
       "      <th>B</th>\n",
       "      <th>C</th>\n",
       "      <th>D</th>\n",
       "    </tr>\n",
       "  </thead>\n",
       "  <tbody>\n",
       "    <tr>\n",
       "      <th>0</th>\n",
       "      <td>0.643540</td>\n",
       "      <td>0.334191</td>\n",
       "      <td>0.379616</td>\n",
       "      <td>0.370919</td>\n",
       "    </tr>\n",
       "    <tr>\n",
       "      <th>1</th>\n",
       "      <td>0.700844</td>\n",
       "      <td>0.365643</td>\n",
       "      <td>0.385233</td>\n",
       "      <td>0.069759</td>\n",
       "    </tr>\n",
       "    <tr>\n",
       "      <th>2</th>\n",
       "      <td>0.201622</td>\n",
       "      <td>0.179023</td>\n",
       "      <td>0.144862</td>\n",
       "      <td>0.717728</td>\n",
       "    </tr>\n",
       "    <tr>\n",
       "      <th>3</th>\n",
       "      <td>0.337750</td>\n",
       "      <td>0.956541</td>\n",
       "      <td>0.159898</td>\n",
       "      <td>0.668184</td>\n",
       "    </tr>\n",
       "    <tr>\n",
       "      <th>4</th>\n",
       "      <td>0.382504</td>\n",
       "      <td>0.735635</td>\n",
       "      <td>0.432578</td>\n",
       "      <td>0.310590</td>\n",
       "    </tr>\n",
       "  </tbody>\n",
       "</table>\n",
       "</div>"
      ],
      "text/plain": [
       "          A         B         C         D\n",
       "0  0.643540  0.334191  0.379616  0.370919\n",
       "1  0.700844  0.365643  0.385233  0.069759\n",
       "2  0.201622  0.179023  0.144862  0.717728\n",
       "3  0.337750  0.956541  0.159898  0.668184\n",
       "4  0.382504  0.735635  0.432578  0.310590"
      ]
     },
     "execution_count": 6,
     "metadata": {},
     "output_type": "execute_result"
    }
   ],
   "source": [
    "#Look at first n rows of data frame\n",
    "df.head()"
   ]
  },
  {
   "cell_type": "code",
   "execution_count": 7,
   "id": "ef185287",
   "metadata": {},
   "outputs": [
    {
     "data": {
      "text/html": [
       "<div>\n",
       "<style scoped>\n",
       "    .dataframe tbody tr th:only-of-type {\n",
       "        vertical-align: middle;\n",
       "    }\n",
       "\n",
       "    .dataframe tbody tr th {\n",
       "        vertical-align: top;\n",
       "    }\n",
       "\n",
       "    .dataframe thead th {\n",
       "        text-align: right;\n",
       "    }\n",
       "</style>\n",
       "<table border=\"1\" class=\"dataframe\">\n",
       "  <thead>\n",
       "    <tr style=\"text-align: right;\">\n",
       "      <th></th>\n",
       "      <th>A</th>\n",
       "      <th>B</th>\n",
       "      <th>C</th>\n",
       "      <th>D</th>\n",
       "    </tr>\n",
       "  </thead>\n",
       "  <tbody>\n",
       "    <tr>\n",
       "      <th>5</th>\n",
       "      <td>0.645458</td>\n",
       "      <td>0.622858</td>\n",
       "      <td>0.978791</td>\n",
       "      <td>0.240100</td>\n",
       "    </tr>\n",
       "    <tr>\n",
       "      <th>6</th>\n",
       "      <td>0.567720</td>\n",
       "      <td>0.647658</td>\n",
       "      <td>0.033470</td>\n",
       "      <td>0.005820</td>\n",
       "    </tr>\n",
       "    <tr>\n",
       "      <th>7</th>\n",
       "      <td>0.518737</td>\n",
       "      <td>0.161844</td>\n",
       "      <td>0.231548</td>\n",
       "      <td>0.260802</td>\n",
       "    </tr>\n",
       "    <tr>\n",
       "      <th>8</th>\n",
       "      <td>0.845187</td>\n",
       "      <td>0.565228</td>\n",
       "      <td>0.658303</td>\n",
       "      <td>0.169912</td>\n",
       "    </tr>\n",
       "    <tr>\n",
       "      <th>9</th>\n",
       "      <td>0.527357</td>\n",
       "      <td>0.567190</td>\n",
       "      <td>0.919655</td>\n",
       "      <td>0.439795</td>\n",
       "    </tr>\n",
       "  </tbody>\n",
       "</table>\n",
       "</div>"
      ],
      "text/plain": [
       "          A         B         C         D\n",
       "5  0.645458  0.622858  0.978791  0.240100\n",
       "6  0.567720  0.647658  0.033470  0.005820\n",
       "7  0.518737  0.161844  0.231548  0.260802\n",
       "8  0.845187  0.565228  0.658303  0.169912\n",
       "9  0.527357  0.567190  0.919655  0.439795"
      ]
     },
     "execution_count": 7,
     "metadata": {},
     "output_type": "execute_result"
    }
   ],
   "source": [
    "#Look at the last n rows of data frame\n",
    "df.tail()"
   ]
  },
  {
   "cell_type": "code",
   "execution_count": 8,
   "id": "2ef93c84",
   "metadata": {},
   "outputs": [
    {
     "data": {
      "text/plain": [
       "(10, 4)"
      ]
     },
     "execution_count": 8,
     "metadata": {},
     "output_type": "execute_result"
    }
   ],
   "source": [
    "#Gives the number of rows and columns\n",
    "df.shape"
   ]
  },
  {
   "cell_type": "code",
   "execution_count": 9,
   "id": "5cf92859",
   "metadata": {},
   "outputs": [
    {
     "name": "stdout",
     "output_type": "stream",
     "text": [
      "<class 'pandas.core.frame.DataFrame'>\n",
      "RangeIndex: 10 entries, 0 to 9\n",
      "Data columns (total 4 columns):\n",
      " #   Column  Non-Null Count  Dtype  \n",
      "---  ------  --------------  -----  \n",
      " 0   A       10 non-null     float64\n",
      " 1   B       10 non-null     float64\n",
      " 2   C       10 non-null     float64\n",
      " 3   D       10 non-null     float64\n",
      "dtypes: float64(4)\n",
      "memory usage: 448.0 bytes\n"
     ]
    }
   ],
   "source": [
    "#Information of index, data type and memory\n",
    "df.info()"
   ]
  },
  {
   "cell_type": "code",
   "execution_count": 10,
   "id": "1c9a8942",
   "metadata": {},
   "outputs": [
    {
     "data": {
      "text/html": [
       "<div>\n",
       "<style scoped>\n",
       "    .dataframe tbody tr th:only-of-type {\n",
       "        vertical-align: middle;\n",
       "    }\n",
       "\n",
       "    .dataframe tbody tr th {\n",
       "        vertical-align: top;\n",
       "    }\n",
       "\n",
       "    .dataframe thead th {\n",
       "        text-align: right;\n",
       "    }\n",
       "</style>\n",
       "<table border=\"1\" class=\"dataframe\">\n",
       "  <thead>\n",
       "    <tr style=\"text-align: right;\">\n",
       "      <th></th>\n",
       "      <th>A</th>\n",
       "      <th>B</th>\n",
       "      <th>C</th>\n",
       "      <th>D</th>\n",
       "    </tr>\n",
       "  </thead>\n",
       "  <tbody>\n",
       "    <tr>\n",
       "      <th>count</th>\n",
       "      <td>10.000000</td>\n",
       "      <td>10.000000</td>\n",
       "      <td>10.000000</td>\n",
       "      <td>10.000000</td>\n",
       "    </tr>\n",
       "    <tr>\n",
       "      <th>mean</th>\n",
       "      <td>0.537072</td>\n",
       "      <td>0.513581</td>\n",
       "      <td>0.432395</td>\n",
       "      <td>0.325361</td>\n",
       "    </tr>\n",
       "    <tr>\n",
       "      <th>std</th>\n",
       "      <td>0.189255</td>\n",
       "      <td>0.251814</td>\n",
       "      <td>0.324624</td>\n",
       "      <td>0.233312</td>\n",
       "    </tr>\n",
       "    <tr>\n",
       "      <th>min</th>\n",
       "      <td>0.201622</td>\n",
       "      <td>0.161844</td>\n",
       "      <td>0.033470</td>\n",
       "      <td>0.005820</td>\n",
       "    </tr>\n",
       "    <tr>\n",
       "      <th>25%</th>\n",
       "      <td>0.416562</td>\n",
       "      <td>0.342054</td>\n",
       "      <td>0.177811</td>\n",
       "      <td>0.187459</td>\n",
       "    </tr>\n",
       "    <tr>\n",
       "      <th>50%</th>\n",
       "      <td>0.547539</td>\n",
       "      <td>0.566209</td>\n",
       "      <td>0.382424</td>\n",
       "      <td>0.285696</td>\n",
       "    </tr>\n",
       "    <tr>\n",
       "      <th>75%</th>\n",
       "      <td>0.644978</td>\n",
       "      <td>0.641458</td>\n",
       "      <td>0.601872</td>\n",
       "      <td>0.422576</td>\n",
       "    </tr>\n",
       "    <tr>\n",
       "      <th>max</th>\n",
       "      <td>0.845187</td>\n",
       "      <td>0.956541</td>\n",
       "      <td>0.978791</td>\n",
       "      <td>0.717728</td>\n",
       "    </tr>\n",
       "  </tbody>\n",
       "</table>\n",
       "</div>"
      ],
      "text/plain": [
       "               A          B          C          D\n",
       "count  10.000000  10.000000  10.000000  10.000000\n",
       "mean    0.537072   0.513581   0.432395   0.325361\n",
       "std     0.189255   0.251814   0.324624   0.233312\n",
       "min     0.201622   0.161844   0.033470   0.005820\n",
       "25%     0.416562   0.342054   0.177811   0.187459\n",
       "50%     0.547539   0.566209   0.382424   0.285696\n",
       "75%     0.644978   0.641458   0.601872   0.422576\n",
       "max     0.845187   0.956541   0.978791   0.717728"
      ]
     },
     "execution_count": 10,
     "metadata": {},
     "output_type": "execute_result"
    }
   ],
   "source": [
    "#Summary Statistics of numerical columns\n",
    "df.describe()"
   ]
  },
  {
   "cell_type": "markdown",
   "id": "5a00d420",
   "metadata": {},
   "source": [
    "**5.2. Selection of Data Frame Contents**"
   ]
  },
  {
   "cell_type": "markdown",
   "id": "c4e2cdd6",
   "metadata": {},
   "source": [
    "**iloc Function**"
   ]
  },
  {
   "cell_type": "code",
   "execution_count": 11,
   "id": "2a79620d",
   "metadata": {},
   "outputs": [
    {
     "data": {
      "text/plain": [
       "A    0.643540\n",
       "B    0.334191\n",
       "C    0.379616\n",
       "D    0.370919\n",
       "Name: 0, dtype: float64"
      ]
     },
     "execution_count": 11,
     "metadata": {},
     "output_type": "execute_result"
    }
   ],
   "source": [
    "#Select first row of Data Frame\n",
    "df.iloc[0]"
   ]
  },
  {
   "cell_type": "code",
   "execution_count": 12,
   "id": "41d78ad9",
   "metadata": {},
   "outputs": [
    {
     "data": {
      "text/plain": [
       "A    0.700844\n",
       "B    0.365643\n",
       "C    0.385233\n",
       "D    0.069759\n",
       "Name: 1, dtype: float64"
      ]
     },
     "execution_count": 12,
     "metadata": {},
     "output_type": "execute_result"
    }
   ],
   "source": [
    "#Select second row of Data Frame\n",
    "df.iloc[1]"
   ]
  },
  {
   "cell_type": "code",
   "execution_count": 13,
   "id": "8537d32d",
   "metadata": {},
   "outputs": [
    {
     "data": {
      "text/plain": [
       "A    0.527357\n",
       "B    0.567190\n",
       "C    0.919655\n",
       "D    0.439795\n",
       "Name: 9, dtype: float64"
      ]
     },
     "execution_count": 13,
     "metadata": {},
     "output_type": "execute_result"
    }
   ],
   "source": [
    "#Select last row of Data Frame\n",
    "df.iloc[-1]"
   ]
  },
  {
   "cell_type": "code",
   "execution_count": 14,
   "id": "0fd7bbaf",
   "metadata": {},
   "outputs": [
    {
     "data": {
      "text/plain": [
       "0    0.643540\n",
       "1    0.700844\n",
       "2    0.201622\n",
       "3    0.337750\n",
       "4    0.382504\n",
       "5    0.645458\n",
       "6    0.567720\n",
       "7    0.518737\n",
       "8    0.845187\n",
       "9    0.527357\n",
       "Name: A, dtype: float64"
      ]
     },
     "execution_count": 14,
     "metadata": {},
     "output_type": "execute_result"
    }
   ],
   "source": [
    "#Select first column of Data Frame\n",
    "df.iloc[:,0]"
   ]
  },
  {
   "cell_type": "code",
   "execution_count": 15,
   "id": "4a41332b",
   "metadata": {},
   "outputs": [
    {
     "data": {
      "text/plain": [
       "0    0.334191\n",
       "1    0.365643\n",
       "2    0.179023\n",
       "3    0.956541\n",
       "4    0.735635\n",
       "5    0.622858\n",
       "6    0.647658\n",
       "7    0.161844\n",
       "8    0.565228\n",
       "9    0.567190\n",
       "Name: B, dtype: float64"
      ]
     },
     "execution_count": 15,
     "metadata": {},
     "output_type": "execute_result"
    }
   ],
   "source": [
    "#Select second column of Data Frame\n",
    "df.iloc[:,1]"
   ]
  },
  {
   "cell_type": "markdown",
   "id": "1454406c",
   "metadata": {},
   "source": [
    "**loc Function**"
   ]
  },
  {
   "cell_type": "code",
   "execution_count": 16,
   "id": "21379973",
   "metadata": {},
   "outputs": [
    {
     "data": {
      "text/plain": [
       "0.6228575514729365"
      ]
     },
     "execution_count": 16,
     "metadata": {},
     "output_type": "execute_result"
    }
   ],
   "source": [
    "#Select single value by row position and column labels\n",
    "df.loc[5,'B']"
   ]
  },
  {
   "cell_type": "code",
   "execution_count": 17,
   "id": "66c1b753",
   "metadata": {},
   "outputs": [
    {
     "data": {
      "text/html": [
       "<div>\n",
       "<style scoped>\n",
       "    .dataframe tbody tr th:only-of-type {\n",
       "        vertical-align: middle;\n",
       "    }\n",
       "\n",
       "    .dataframe tbody tr th {\n",
       "        vertical-align: top;\n",
       "    }\n",
       "\n",
       "    .dataframe thead th {\n",
       "        text-align: right;\n",
       "    }\n",
       "</style>\n",
       "<table border=\"1\" class=\"dataframe\">\n",
       "  <thead>\n",
       "    <tr style=\"text-align: right;\">\n",
       "      <th></th>\n",
       "      <th>A</th>\n",
       "      <th>B</th>\n",
       "      <th>C</th>\n",
       "    </tr>\n",
       "  </thead>\n",
       "  <tbody>\n",
       "    <tr>\n",
       "      <th>0</th>\n",
       "      <td>0.643540</td>\n",
       "      <td>0.334191</td>\n",
       "      <td>0.379616</td>\n",
       "    </tr>\n",
       "    <tr>\n",
       "      <th>1</th>\n",
       "      <td>0.700844</td>\n",
       "      <td>0.365643</td>\n",
       "      <td>0.385233</td>\n",
       "    </tr>\n",
       "    <tr>\n",
       "      <th>2</th>\n",
       "      <td>0.201622</td>\n",
       "      <td>0.179023</td>\n",
       "      <td>0.144862</td>\n",
       "    </tr>\n",
       "    <tr>\n",
       "      <th>3</th>\n",
       "      <td>0.337750</td>\n",
       "      <td>0.956541</td>\n",
       "      <td>0.159898</td>\n",
       "    </tr>\n",
       "    <tr>\n",
       "      <th>4</th>\n",
       "      <td>0.382504</td>\n",
       "      <td>0.735635</td>\n",
       "      <td>0.432578</td>\n",
       "    </tr>\n",
       "    <tr>\n",
       "      <th>5</th>\n",
       "      <td>0.645458</td>\n",
       "      <td>0.622858</td>\n",
       "      <td>0.978791</td>\n",
       "    </tr>\n",
       "  </tbody>\n",
       "</table>\n",
       "</div>"
      ],
      "text/plain": [
       "          A         B         C\n",
       "0  0.643540  0.334191  0.379616\n",
       "1  0.700844  0.365643  0.385233\n",
       "2  0.201622  0.179023  0.144862\n",
       "3  0.337750  0.956541  0.159898\n",
       "4  0.382504  0.735635  0.432578\n",
       "5  0.645458  0.622858  0.978791"
      ]
     },
     "execution_count": 17,
     "metadata": {},
     "output_type": "execute_result"
    }
   ],
   "source": [
    "#Select and slicing on labels\n",
    "df.loc[0:5, 'A':'C']"
   ]
  },
  {
   "cell_type": "markdown",
   "id": "81e19864",
   "metadata": {},
   "source": [
    "**6. Sorting of Data Frame**"
   ]
  },
  {
   "cell_type": "code",
   "execution_count": 18,
   "id": "d12d04a4",
   "metadata": {},
   "outputs": [
    {
     "data": {
      "text/html": [
       "<div>\n",
       "<style scoped>\n",
       "    .dataframe tbody tr th:only-of-type {\n",
       "        vertical-align: middle;\n",
       "    }\n",
       "\n",
       "    .dataframe tbody tr th {\n",
       "        vertical-align: top;\n",
       "    }\n",
       "\n",
       "    .dataframe thead th {\n",
       "        text-align: right;\n",
       "    }\n",
       "</style>\n",
       "<table border=\"1\" class=\"dataframe\">\n",
       "  <thead>\n",
       "    <tr style=\"text-align: right;\">\n",
       "      <th></th>\n",
       "      <th>A</th>\n",
       "      <th>B</th>\n",
       "      <th>C</th>\n",
       "      <th>D</th>\n",
       "    </tr>\n",
       "  </thead>\n",
       "  <tbody>\n",
       "    <tr>\n",
       "      <th>0</th>\n",
       "      <td>0.643540</td>\n",
       "      <td>0.334191</td>\n",
       "      <td>0.379616</td>\n",
       "      <td>0.370919</td>\n",
       "    </tr>\n",
       "    <tr>\n",
       "      <th>1</th>\n",
       "      <td>0.700844</td>\n",
       "      <td>0.365643</td>\n",
       "      <td>0.385233</td>\n",
       "      <td>0.069759</td>\n",
       "    </tr>\n",
       "    <tr>\n",
       "      <th>2</th>\n",
       "      <td>0.201622</td>\n",
       "      <td>0.179023</td>\n",
       "      <td>0.144862</td>\n",
       "      <td>0.717728</td>\n",
       "    </tr>\n",
       "    <tr>\n",
       "      <th>3</th>\n",
       "      <td>0.337750</td>\n",
       "      <td>0.956541</td>\n",
       "      <td>0.159898</td>\n",
       "      <td>0.668184</td>\n",
       "    </tr>\n",
       "    <tr>\n",
       "      <th>4</th>\n",
       "      <td>0.382504</td>\n",
       "      <td>0.735635</td>\n",
       "      <td>0.432578</td>\n",
       "      <td>0.310590</td>\n",
       "    </tr>\n",
       "    <tr>\n",
       "      <th>5</th>\n",
       "      <td>0.645458</td>\n",
       "      <td>0.622858</td>\n",
       "      <td>0.978791</td>\n",
       "      <td>0.240100</td>\n",
       "    </tr>\n",
       "    <tr>\n",
       "      <th>6</th>\n",
       "      <td>0.567720</td>\n",
       "      <td>0.647658</td>\n",
       "      <td>0.033470</td>\n",
       "      <td>0.005820</td>\n",
       "    </tr>\n",
       "    <tr>\n",
       "      <th>7</th>\n",
       "      <td>0.518737</td>\n",
       "      <td>0.161844</td>\n",
       "      <td>0.231548</td>\n",
       "      <td>0.260802</td>\n",
       "    </tr>\n",
       "    <tr>\n",
       "      <th>8</th>\n",
       "      <td>0.845187</td>\n",
       "      <td>0.565228</td>\n",
       "      <td>0.658303</td>\n",
       "      <td>0.169912</td>\n",
       "    </tr>\n",
       "    <tr>\n",
       "      <th>9</th>\n",
       "      <td>0.527357</td>\n",
       "      <td>0.567190</td>\n",
       "      <td>0.919655</td>\n",
       "      <td>0.439795</td>\n",
       "    </tr>\n",
       "  </tbody>\n",
       "</table>\n",
       "</div>"
      ],
      "text/plain": [
       "          A         B         C         D\n",
       "0  0.643540  0.334191  0.379616  0.370919\n",
       "1  0.700844  0.365643  0.385233  0.069759\n",
       "2  0.201622  0.179023  0.144862  0.717728\n",
       "3  0.337750  0.956541  0.159898  0.668184\n",
       "4  0.382504  0.735635  0.432578  0.310590\n",
       "5  0.645458  0.622858  0.978791  0.240100\n",
       "6  0.567720  0.647658  0.033470  0.005820\n",
       "7  0.518737  0.161844  0.231548  0.260802\n",
       "8  0.845187  0.565228  0.658303  0.169912\n",
       "9  0.527357  0.567190  0.919655  0.439795"
      ]
     },
     "execution_count": 18,
     "metadata": {},
     "output_type": "execute_result"
    }
   ],
   "source": [
    "#Sort by labels along the index\n",
    "df.sort_index()"
   ]
  },
  {
   "cell_type": "code",
   "execution_count": 19,
   "id": "e7bab621",
   "metadata": {},
   "outputs": [
    {
     "data": {
      "text/html": [
       "<div>\n",
       "<style scoped>\n",
       "    .dataframe tbody tr th:only-of-type {\n",
       "        vertical-align: middle;\n",
       "    }\n",
       "\n",
       "    .dataframe tbody tr th {\n",
       "        vertical-align: top;\n",
       "    }\n",
       "\n",
       "    .dataframe thead th {\n",
       "        text-align: right;\n",
       "    }\n",
       "</style>\n",
       "<table border=\"1\" class=\"dataframe\">\n",
       "  <thead>\n",
       "    <tr style=\"text-align: right;\">\n",
       "      <th></th>\n",
       "      <th>A</th>\n",
       "      <th>B</th>\n",
       "      <th>C</th>\n",
       "      <th>D</th>\n",
       "    </tr>\n",
       "  </thead>\n",
       "  <tbody>\n",
       "    <tr>\n",
       "      <th>2</th>\n",
       "      <td>0.201622</td>\n",
       "      <td>0.179023</td>\n",
       "      <td>0.144862</td>\n",
       "      <td>0.717728</td>\n",
       "    </tr>\n",
       "    <tr>\n",
       "      <th>3</th>\n",
       "      <td>0.337750</td>\n",
       "      <td>0.956541</td>\n",
       "      <td>0.159898</td>\n",
       "      <td>0.668184</td>\n",
       "    </tr>\n",
       "    <tr>\n",
       "      <th>4</th>\n",
       "      <td>0.382504</td>\n",
       "      <td>0.735635</td>\n",
       "      <td>0.432578</td>\n",
       "      <td>0.310590</td>\n",
       "    </tr>\n",
       "    <tr>\n",
       "      <th>7</th>\n",
       "      <td>0.518737</td>\n",
       "      <td>0.161844</td>\n",
       "      <td>0.231548</td>\n",
       "      <td>0.260802</td>\n",
       "    </tr>\n",
       "    <tr>\n",
       "      <th>9</th>\n",
       "      <td>0.527357</td>\n",
       "      <td>0.567190</td>\n",
       "      <td>0.919655</td>\n",
       "      <td>0.439795</td>\n",
       "    </tr>\n",
       "    <tr>\n",
       "      <th>6</th>\n",
       "      <td>0.567720</td>\n",
       "      <td>0.647658</td>\n",
       "      <td>0.033470</td>\n",
       "      <td>0.005820</td>\n",
       "    </tr>\n",
       "    <tr>\n",
       "      <th>0</th>\n",
       "      <td>0.643540</td>\n",
       "      <td>0.334191</td>\n",
       "      <td>0.379616</td>\n",
       "      <td>0.370919</td>\n",
       "    </tr>\n",
       "    <tr>\n",
       "      <th>5</th>\n",
       "      <td>0.645458</td>\n",
       "      <td>0.622858</td>\n",
       "      <td>0.978791</td>\n",
       "      <td>0.240100</td>\n",
       "    </tr>\n",
       "    <tr>\n",
       "      <th>1</th>\n",
       "      <td>0.700844</td>\n",
       "      <td>0.365643</td>\n",
       "      <td>0.385233</td>\n",
       "      <td>0.069759</td>\n",
       "    </tr>\n",
       "    <tr>\n",
       "      <th>8</th>\n",
       "      <td>0.845187</td>\n",
       "      <td>0.565228</td>\n",
       "      <td>0.658303</td>\n",
       "      <td>0.169912</td>\n",
       "    </tr>\n",
       "  </tbody>\n",
       "</table>\n",
       "</div>"
      ],
      "text/plain": [
       "          A         B         C         D\n",
       "2  0.201622  0.179023  0.144862  0.717728\n",
       "3  0.337750  0.956541  0.159898  0.668184\n",
       "4  0.382504  0.735635  0.432578  0.310590\n",
       "7  0.518737  0.161844  0.231548  0.260802\n",
       "9  0.527357  0.567190  0.919655  0.439795\n",
       "6  0.567720  0.647658  0.033470  0.005820\n",
       "0  0.643540  0.334191  0.379616  0.370919\n",
       "5  0.645458  0.622858  0.978791  0.240100\n",
       "1  0.700844  0.365643  0.385233  0.069759\n",
       "8  0.845187  0.565228  0.658303  0.169912"
      ]
     },
     "execution_count": 19,
     "metadata": {},
     "output_type": "execute_result"
    }
   ],
   "source": [
    "#Sorts values by column 1 in ascending order\n",
    "df.sort_values('A')"
   ]
  },
  {
   "cell_type": "code",
   "execution_count": 20,
   "id": "514f6d69",
   "metadata": {},
   "outputs": [
    {
     "data": {
      "text/html": [
       "<div>\n",
       "<style scoped>\n",
       "    .dataframe tbody tr th:only-of-type {\n",
       "        vertical-align: middle;\n",
       "    }\n",
       "\n",
       "    .dataframe tbody tr th {\n",
       "        vertical-align: top;\n",
       "    }\n",
       "\n",
       "    .dataframe thead th {\n",
       "        text-align: right;\n",
       "    }\n",
       "</style>\n",
       "<table border=\"1\" class=\"dataframe\">\n",
       "  <thead>\n",
       "    <tr style=\"text-align: right;\">\n",
       "      <th></th>\n",
       "      <th>A</th>\n",
       "      <th>B</th>\n",
       "      <th>C</th>\n",
       "      <th>D</th>\n",
       "    </tr>\n",
       "  </thead>\n",
       "  <tbody>\n",
       "    <tr>\n",
       "      <th>8</th>\n",
       "      <td>0.845187</td>\n",
       "      <td>0.565228</td>\n",
       "      <td>0.658303</td>\n",
       "      <td>0.169912</td>\n",
       "    </tr>\n",
       "    <tr>\n",
       "      <th>1</th>\n",
       "      <td>0.700844</td>\n",
       "      <td>0.365643</td>\n",
       "      <td>0.385233</td>\n",
       "      <td>0.069759</td>\n",
       "    </tr>\n",
       "    <tr>\n",
       "      <th>5</th>\n",
       "      <td>0.645458</td>\n",
       "      <td>0.622858</td>\n",
       "      <td>0.978791</td>\n",
       "      <td>0.240100</td>\n",
       "    </tr>\n",
       "    <tr>\n",
       "      <th>0</th>\n",
       "      <td>0.643540</td>\n",
       "      <td>0.334191</td>\n",
       "      <td>0.379616</td>\n",
       "      <td>0.370919</td>\n",
       "    </tr>\n",
       "    <tr>\n",
       "      <th>6</th>\n",
       "      <td>0.567720</td>\n",
       "      <td>0.647658</td>\n",
       "      <td>0.033470</td>\n",
       "      <td>0.005820</td>\n",
       "    </tr>\n",
       "    <tr>\n",
       "      <th>9</th>\n",
       "      <td>0.527357</td>\n",
       "      <td>0.567190</td>\n",
       "      <td>0.919655</td>\n",
       "      <td>0.439795</td>\n",
       "    </tr>\n",
       "    <tr>\n",
       "      <th>7</th>\n",
       "      <td>0.518737</td>\n",
       "      <td>0.161844</td>\n",
       "      <td>0.231548</td>\n",
       "      <td>0.260802</td>\n",
       "    </tr>\n",
       "    <tr>\n",
       "      <th>4</th>\n",
       "      <td>0.382504</td>\n",
       "      <td>0.735635</td>\n",
       "      <td>0.432578</td>\n",
       "      <td>0.310590</td>\n",
       "    </tr>\n",
       "    <tr>\n",
       "      <th>3</th>\n",
       "      <td>0.337750</td>\n",
       "      <td>0.956541</td>\n",
       "      <td>0.159898</td>\n",
       "      <td>0.668184</td>\n",
       "    </tr>\n",
       "    <tr>\n",
       "      <th>2</th>\n",
       "      <td>0.201622</td>\n",
       "      <td>0.179023</td>\n",
       "      <td>0.144862</td>\n",
       "      <td>0.717728</td>\n",
       "    </tr>\n",
       "  </tbody>\n",
       "</table>\n",
       "</div>"
      ],
      "text/plain": [
       "          A         B         C         D\n",
       "8  0.845187  0.565228  0.658303  0.169912\n",
       "1  0.700844  0.365643  0.385233  0.069759\n",
       "5  0.645458  0.622858  0.978791  0.240100\n",
       "0  0.643540  0.334191  0.379616  0.370919\n",
       "6  0.567720  0.647658  0.033470  0.005820\n",
       "9  0.527357  0.567190  0.919655  0.439795\n",
       "7  0.518737  0.161844  0.231548  0.260802\n",
       "4  0.382504  0.735635  0.432578  0.310590\n",
       "3  0.337750  0.956541  0.159898  0.668184\n",
       "2  0.201622  0.179023  0.144862  0.717728"
      ]
     },
     "execution_count": 20,
     "metadata": {},
     "output_type": "execute_result"
    }
   ],
   "source": [
    "#Sorts values by column in descending order\n",
    "df.sort_values('A', ascending=False)"
   ]
  },
  {
   "cell_type": "code",
   "execution_count": 21,
   "id": "fd150057",
   "metadata": {},
   "outputs": [
    {
     "data": {
      "text/plain": [
       "<pandas.core.groupby.generic.DataFrameGroupBy object at 0x000001C4C65FC6A0>"
      ]
     },
     "execution_count": 21,
     "metadata": {},
     "output_type": "execute_result"
    }
   ],
   "source": [
    "#Returns a group by object values from multiple columns\n",
    "df.groupby(['A', 'D'])"
   ]
  },
  {
   "cell_type": "code",
   "execution_count": 22,
   "id": "96ec55b7",
   "metadata": {},
   "outputs": [
    {
     "data": {
      "text/plain": [
       "A\n",
       "0.201622    0.717728\n",
       "0.337750    0.668184\n",
       "0.382504    0.310590\n",
       "0.518737    0.260802\n",
       "0.527357    0.439795\n",
       "0.567720    0.005820\n",
       "0.643540    0.370919\n",
       "0.645458    0.240100\n",
       "0.700844    0.069759\n",
       "0.845187    0.169912\n",
       "Name: D, dtype: float64"
      ]
     },
     "execution_count": 22,
     "metadata": {},
     "output_type": "execute_result"
    }
   ],
   "source": [
    "#To understand what the groupby object produces, we will call the mean method to aggregate the data by calculating a mean.\n",
    "df.groupby('A')['D'].mean()"
   ]
  },
  {
   "cell_type": "markdown",
   "id": "6b48cfbb",
   "metadata": {},
   "source": [
    "**7. Functions**"
   ]
  },
  {
   "cell_type": "markdown",
   "id": "26f8cf20",
   "metadata": {},
   "source": [
    "**7.1. Mean**"
   ]
  },
  {
   "cell_type": "code",
   "execution_count": 23,
   "id": "dfcdc4c4",
   "metadata": {},
   "outputs": [
    {
     "data": {
      "text/plain": [
       "A    0.537072\n",
       "B    0.513581\n",
       "C    0.432395\n",
       "D    0.325361\n",
       "dtype: float64"
      ]
     },
     "execution_count": 23,
     "metadata": {},
     "output_type": "execute_result"
    }
   ],
   "source": [
    "#Mean of all columns\n",
    "df.mean()"
   ]
  },
  {
   "cell_type": "markdown",
   "id": "6a8bc324",
   "metadata": {},
   "source": [
    "**7.2. Median**"
   ]
  },
  {
   "cell_type": "code",
   "execution_count": 24,
   "id": "72275332",
   "metadata": {},
   "outputs": [
    {
     "data": {
      "text/plain": [
       "A    0.547539\n",
       "B    0.566209\n",
       "C    0.382424\n",
       "D    0.285696\n",
       "dtype: float64"
      ]
     },
     "execution_count": 24,
     "metadata": {},
     "output_type": "execute_result"
    }
   ],
   "source": [
    "#Median of all columns\n",
    "df.median()"
   ]
  },
  {
   "cell_type": "markdown",
   "id": "f4a8ad53",
   "metadata": {},
   "source": [
    "**7.3. Standard Deviation**"
   ]
  },
  {
   "cell_type": "code",
   "execution_count": 25,
   "id": "5ea241c2",
   "metadata": {},
   "outputs": [
    {
     "data": {
      "text/plain": [
       "A    0.189255\n",
       "B    0.251814\n",
       "C    0.324624\n",
       "D    0.233312\n",
       "dtype: float64"
      ]
     },
     "execution_count": 25,
     "metadata": {},
     "output_type": "execute_result"
    }
   ],
   "source": [
    "#Standard Deviation of all columns\n",
    "df.std()"
   ]
  },
  {
   "cell_type": "markdown",
   "id": "c7e78c47",
   "metadata": {},
   "source": [
    "**7.4. Maximum**"
   ]
  },
  {
   "cell_type": "code",
   "execution_count": 26,
   "id": "2c67ed84",
   "metadata": {},
   "outputs": [
    {
     "data": {
      "text/plain": [
       "A    0.845187\n",
       "B    0.956541\n",
       "C    0.978791\n",
       "D    0.717728\n",
       "dtype: float64"
      ]
     },
     "execution_count": 26,
     "metadata": {},
     "output_type": "execute_result"
    }
   ],
   "source": [
    "#Highest Value in each column\n",
    "df.max()"
   ]
  },
  {
   "cell_type": "markdown",
   "id": "5f3dc1bf",
   "metadata": {},
   "source": [
    "**7.5 Minimum**"
   ]
  },
  {
   "cell_type": "code",
   "execution_count": 27,
   "id": "4aeb2e24",
   "metadata": {},
   "outputs": [
    {
     "data": {
      "text/plain": [
       "A    0.201622\n",
       "B    0.161844\n",
       "C    0.033470\n",
       "D    0.005820\n",
       "dtype: float64"
      ]
     },
     "execution_count": 27,
     "metadata": {},
     "output_type": "execute_result"
    }
   ],
   "source": [
    "#Lowest value in each column\n",
    "df.min()"
   ]
  },
  {
   "cell_type": "markdown",
   "id": "ba53e8e3",
   "metadata": {},
   "source": [
    "**7.6. Count**"
   ]
  },
  {
   "cell_type": "code",
   "execution_count": 28,
   "id": "b505096f",
   "metadata": {},
   "outputs": [
    {
     "data": {
      "text/plain": [
       "A    10\n",
       "B    10\n",
       "C    10\n",
       "D    10\n",
       "dtype: int64"
      ]
     },
     "execution_count": 28,
     "metadata": {},
     "output_type": "execute_result"
    }
   ],
   "source": [
    "#No of non null values in each columns\n",
    "df.count()"
   ]
  },
  {
   "cell_type": "markdown",
   "id": "3d83b581",
   "metadata": {},
   "source": [
    "**7.7. Describe**"
   ]
  },
  {
   "cell_type": "code",
   "execution_count": 29,
   "id": "6a87d926",
   "metadata": {},
   "outputs": [
    {
     "data": {
      "text/html": [
       "<div>\n",
       "<style scoped>\n",
       "    .dataframe tbody tr th:only-of-type {\n",
       "        vertical-align: middle;\n",
       "    }\n",
       "\n",
       "    .dataframe tbody tr th {\n",
       "        vertical-align: top;\n",
       "    }\n",
       "\n",
       "    .dataframe thead th {\n",
       "        text-align: right;\n",
       "    }\n",
       "</style>\n",
       "<table border=\"1\" class=\"dataframe\">\n",
       "  <thead>\n",
       "    <tr style=\"text-align: right;\">\n",
       "      <th></th>\n",
       "      <th>A</th>\n",
       "      <th>B</th>\n",
       "      <th>C</th>\n",
       "      <th>D</th>\n",
       "    </tr>\n",
       "  </thead>\n",
       "  <tbody>\n",
       "    <tr>\n",
       "      <th>count</th>\n",
       "      <td>10.000000</td>\n",
       "      <td>10.000000</td>\n",
       "      <td>10.000000</td>\n",
       "      <td>10.000000</td>\n",
       "    </tr>\n",
       "    <tr>\n",
       "      <th>mean</th>\n",
       "      <td>0.537072</td>\n",
       "      <td>0.513581</td>\n",
       "      <td>0.432395</td>\n",
       "      <td>0.325361</td>\n",
       "    </tr>\n",
       "    <tr>\n",
       "      <th>std</th>\n",
       "      <td>0.189255</td>\n",
       "      <td>0.251814</td>\n",
       "      <td>0.324624</td>\n",
       "      <td>0.233312</td>\n",
       "    </tr>\n",
       "    <tr>\n",
       "      <th>min</th>\n",
       "      <td>0.201622</td>\n",
       "      <td>0.161844</td>\n",
       "      <td>0.033470</td>\n",
       "      <td>0.005820</td>\n",
       "    </tr>\n",
       "    <tr>\n",
       "      <th>25%</th>\n",
       "      <td>0.416562</td>\n",
       "      <td>0.342054</td>\n",
       "      <td>0.177811</td>\n",
       "      <td>0.187459</td>\n",
       "    </tr>\n",
       "    <tr>\n",
       "      <th>50%</th>\n",
       "      <td>0.547539</td>\n",
       "      <td>0.566209</td>\n",
       "      <td>0.382424</td>\n",
       "      <td>0.285696</td>\n",
       "    </tr>\n",
       "    <tr>\n",
       "      <th>75%</th>\n",
       "      <td>0.644978</td>\n",
       "      <td>0.641458</td>\n",
       "      <td>0.601872</td>\n",
       "      <td>0.422576</td>\n",
       "    </tr>\n",
       "    <tr>\n",
       "      <th>max</th>\n",
       "      <td>0.845187</td>\n",
       "      <td>0.956541</td>\n",
       "      <td>0.978791</td>\n",
       "      <td>0.717728</td>\n",
       "    </tr>\n",
       "  </tbody>\n",
       "</table>\n",
       "</div>"
      ],
      "text/plain": [
       "               A          B          C          D\n",
       "count  10.000000  10.000000  10.000000  10.000000\n",
       "mean    0.537072   0.513581   0.432395   0.325361\n",
       "std     0.189255   0.251814   0.324624   0.233312\n",
       "min     0.201622   0.161844   0.033470   0.005820\n",
       "25%     0.416562   0.342054   0.177811   0.187459\n",
       "50%     0.547539   0.566209   0.382424   0.285696\n",
       "75%     0.644978   0.641458   0.601872   0.422576\n",
       "max     0.845187   0.956541   0.978791   0.717728"
      ]
     },
     "execution_count": 29,
     "metadata": {},
     "output_type": "execute_result"
    }
   ],
   "source": [
    "#Summary Statistics of each column\n",
    "df.describe()"
   ]
  },
  {
   "cell_type": "markdown",
   "id": "8c8a7864",
   "metadata": {},
   "source": [
    "**8. Plotting**"
   ]
  },
  {
   "cell_type": "markdown",
   "id": "186aa287",
   "metadata": {},
   "source": [
    "**8.1. Histogram**"
   ]
  },
  {
   "cell_type": "markdown",
   "id": "107c4f27",
   "metadata": {},
   "source": [
    "df.plot.hist()"
   ]
  },
  {
   "cell_type": "markdown",
   "id": "b317cf93",
   "metadata": {},
   "source": [
    "**8.2. Scatter Plot**"
   ]
  },
  {
   "cell_type": "markdown",
   "id": "07139ae1",
   "metadata": {},
   "source": [
    "df.plot.scatter(x='column1', y=column2')"
   ]
  }
 ],
 "metadata": {
  "kernelspec": {
   "display_name": "Python 3 (ipykernel)",
   "language": "python",
   "name": "python3"
  },
  "language_info": {
   "codemirror_mode": {
    "name": "ipython",
    "version": 3
   },
   "file_extension": ".py",
   "mimetype": "text/x-python",
   "name": "python",
   "nbconvert_exporter": "python",
   "pygments_lexer": "ipython3",
   "version": "3.9.12"
  }
 },
 "nbformat": 4,
 "nbformat_minor": 5
}
